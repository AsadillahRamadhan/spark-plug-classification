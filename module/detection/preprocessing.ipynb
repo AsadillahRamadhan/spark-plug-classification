{
 "cells": [
  {
   "cell_type": "code",
   "execution_count": 15,
   "metadata": {},
   "outputs": [],
   "source": [
    "import cv2\n",
    "import os\n",
    "from skimage.feature import hog\n",
    "import shutil"
   ]
  },
  {
   "cell_type": "code",
   "execution_count": 9,
   "metadata": {},
   "outputs": [],
   "source": [
    "path = \"../../data/detection/raw\""
   ]
  },
  {
   "cell_type": "code",
   "execution_count": 6,
   "metadata": {},
   "outputs": [],
   "source": [
    "def load_images(folder_path):\n",
    "  image_array = []\n",
    "  image_files = os.listdir(folder_path)\n",
    "  for file_name in image_files:\n",
    "\n",
    "    if file_name.lower().endswith((\".jpg\", \".png\")):\n",
    "        image_path = os.path.join(folder_path, file_name)\n",
    "        image = cv2.imread(image_path)\n",
    "        image_array.append(image)\n",
    "  return image_array"
   ]
  },
  {
   "cell_type": "code",
   "execution_count": 10,
   "metadata": {},
   "outputs": [],
   "source": [
    "def preprocess_image(image):\n",
    "    gray = cv2.cvtColor(image, cv2.COLOR_BGR2GRAY)\n",
    "    return gray"
   ]
  },
  {
   "cell_type": "code",
   "execution_count": 11,
   "metadata": {},
   "outputs": [],
   "source": [
    "def extract_hog_features(image):\n",
    "    features, _ = hog(image, orientations=9, pixels_per_cell=(8, 8),\n",
    "                      cells_per_block=(2, 2), visualize=True, feature_vector=True)\n",
    "    return features"
   ]
  },
  {
   "cell_type": "code",
   "execution_count": 13,
   "metadata": {},
   "outputs": [],
   "source": [
    "images = load_images(path)\n",
    "images_grayscaled = []\n",
    "for image in images:\n",
    "  images_grayscaled.append(preprocess_image(image))\n",
    "\n",
    "images_extracted = []\n",
    "for image in images_grayscaled:\n",
    "  images_extracted.append(image)"
   ]
  },
  {
   "cell_type": "code",
   "execution_count": 16,
   "metadata": {},
   "outputs": [],
   "source": [
    "output_folder = \"../../data/detection/preprocessed\"\n",
    "if os.path.exists(output_folder):\n",
    "  shutil.rmtree(output_folder)\n",
    "os.makedirs(output_folder, exist_ok=True)\n",
    "\n",
    "for i, img in enumerate(images_grayscaled):\n",
    "    img_path = os.path.join(output_folder, f\"image_{i + 1}.jpg\")\n",
    "    cv2.imwrite(img_path, img)"
   ]
  }
 ],
 "metadata": {
  "kernelspec": {
   "display_name": "env",
   "language": "python",
   "name": "python3"
  },
  "language_info": {
   "codemirror_mode": {
    "name": "ipython",
    "version": 3
   },
   "file_extension": ".py",
   "mimetype": "text/x-python",
   "name": "python",
   "nbconvert_exporter": "python",
   "pygments_lexer": "ipython3",
   "version": "3.13.2"
  }
 },
 "nbformat": 4,
 "nbformat_minor": 2
}
